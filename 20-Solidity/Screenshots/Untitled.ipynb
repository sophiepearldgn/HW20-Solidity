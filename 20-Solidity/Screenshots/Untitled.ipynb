{
 "cells": [
  {
   "cell_type": "markdown",
   "id": "cc871e5c-c05d-4706-8ecc-e9d2351df9b4",
   "metadata": {},
   "source": [
    "![RemixIDE](Screenshots/Screenshot 2023-10-30 163331.png)"
   ]
  },
  {
   "cell_type": "markdown",
   "id": "b8bf80c4-3751-414b-97cb-73f7d0d25932",
   "metadata": {},
   "source": [
    "![RemixIDE](\"API/HW20-Solidity/20-Solidity/Screenshots/Screenshot 2023-10-30 163351.png\")\n"
   ]
  },
  {
   "cell_type": "markdown",
   "id": "d2ca3e92-60bd-4d38-a582-3e8ef78bb73a",
   "metadata": {},
   "source": [
    "![RemixIDE](Screenshots/Screenshot%202023-10-30%20163351.png)\n"
   ]
  },
  {
   "cell_type": "code",
   "execution_count": null,
   "id": "fb56de56-da3c-49af-973f-8153b6b2a185",
   "metadata": {},
   "outputs": [],
   "source": [
    "![No Java Script](Screenshots/Screenshot%202023-10-30%20163351.png)"
   ]
  }
 ],
 "metadata": {
  "kernelspec": {
   "display_name": "Python 3 (ipykernel)",
   "language": "python",
   "name": "python3"
  },
  "language_info": {
   "codemirror_mode": {
    "name": "ipython",
    "version": 3
   },
   "file_extension": ".py",
   "mimetype": "text/x-python",
   "name": "python",
   "nbconvert_exporter": "python",
   "pygments_lexer": "ipython3",
   "version": "3.10.9"
  }
 },
 "nbformat": 4,
 "nbformat_minor": 5
}
